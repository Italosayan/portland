{
 "cells": [
  {
   "cell_type": "code",
   "execution_count": 47,
   "metadata": {
    "collapsed": true
   },
   "outputs": [],
   "source": [
    "import os, glob\n",
    "from os.path import abspath, join\n",
    "import re\n",
    "from numpy import array\n",
    "import pandas as pd"
   ]
  },
  {
   "cell_type": "code",
   "execution_count": 93,
   "metadata": {
    "collapsed": false
   },
   "outputs": [],
   "source": [
    "def parse_out(fout):\n",
    "    from numpy import array\n",
    "    regex = re.compile('uniprotkb:P([0-9]*)')\n",
    "    get_score = re.compile(r\"{u'main': ([+-]?\\d+\\.\\d+|\\d+)\")\n",
    "    get_params = re.compile(r\"}]\\n(.*)\\n\")                   \n",
    "\n",
    "    score = get_score.findall(fout)[0]\n",
    "    params = get_params.findall(fout)[0]                   \n",
    "    return {'score':float(score), 'params':params}\n",
    "\n",
    "def extract_output(exp_dir):\n",
    "    outfiles = glob.glob(join(exp_dir, 'output/*.out'))\n",
    "    experout = []\n",
    "    for outfile in outfiles:\n",
    "        outname = os.path.basename(outfile)\n",
    "        with open(outfile) as f:\n",
    "            fout = f.read()\n",
    "            try:\n",
    "                experout.append(parse_out(fout))\n",
    "            except IndexError:\n",
    "                pass\n",
    "            # add output file name\n",
    "            experout[-1].update({'outfile':outname})\n",
    "    return experout"
   ]
  },
  {
   "cell_type": "code",
   "execution_count": 95,
   "metadata": {
    "collapsed": false
   },
   "outputs": [
    {
     "name": "stdout",
     "output_type": "stream",
     "text": [
      "exctracting output from: /backup/portland/smint_veh_1m\n",
      "exctracting output from: /backup/portland/smint_veh_2m\n",
      "exctracting output from: /backup/portland/smint_bur_3m\n",
      "exctracting output from: /backup/portland/smint_bur_2m\n",
      "exctracting output from: /backup/portland/smint_bur_1m\n",
      "exctracting output from: /backup/portland/smint_veh_3m\n"
     ]
    }
   ],
   "source": [
    "dirs_smint = [abspath(d) for d in os.listdir('.') if 'smint' in d and os.path.isdir(d)]\n",
    "expout = {}\n",
    "for path_out in dirs_smint:\n",
    "    print 'exctracting output from:', path_out\n",
    "    experiment = os.path.basename(path_out)\n",
    "    expout[experiment] = extract_output(path_out)"
   ]
  },
  {
   "cell_type": "code",
   "execution_count": 110,
   "metadata": {
    "collapsed": false
   },
   "outputs": [
    {
     "name": "stdout",
     "output_type": "stream",
     "text": [
      "Choosing best trial in experiment: smint_bur_2m\n",
      "Choosing best trial in experiment: smint_bur_3m\n",
      "Choosing best trial in experiment: smint_bur_1m\n",
      "Choosing best trial in experiment: smint_veh_1m\n",
      "Choosing best trial in experiment: smint_veh_2m\n",
      "Choosing best trial in experiment: smint_veh_3m\n"
     ]
    }
   ],
   "source": [
    "best = []\n",
    "for experiment, output in expout.iteritems():\n",
    "    print 'Choosing best trial in experiment:', experiment\n",
    "    # select best score\n",
    "    df = pd.DataFrame(expout[experiment])\n",
    "    best_out = df.iloc[df.score.argmin()].to_dict()\n",
    "    best_out.update({'experiment':experiment})\n",
    "    best.append(best_out)"
   ]
  },
  {
   "cell_type": "code",
   "execution_count": 113,
   "metadata": {
    "collapsed": false
   },
   "outputs": [
    {
     "data": {
      "text/html": [
       "<div>\n",
       "<table border=\"1\" class=\"dataframe\">\n",
       "  <thead>\n",
       "    <tr style=\"text-align: right;\">\n",
       "      <th></th>\n",
       "      <th>outfile</th>\n",
       "      <th>score</th>\n",
       "    </tr>\n",
       "    <tr>\n",
       "      <th>experiment</th>\n",
       "      <th></th>\n",
       "      <th></th>\n",
       "    </tr>\n",
       "  </thead>\n",
       "  <tbody>\n",
       "    <tr>\n",
       "      <th>smint_bur_2m</th>\n",
       "      <td>00000001.out</td>\n",
       "      <td>-35.383692</td>\n",
       "    </tr>\n",
       "    <tr>\n",
       "      <th>smint_bur_3m</th>\n",
       "      <td>00000007.out</td>\n",
       "      <td>-39.216925</td>\n",
       "    </tr>\n",
       "    <tr>\n",
       "      <th>smint_bur_1m</th>\n",
       "      <td>00000004.out</td>\n",
       "      <td>-24.001720</td>\n",
       "    </tr>\n",
       "    <tr>\n",
       "      <th>smint_veh_1m</th>\n",
       "      <td>00000120.out</td>\n",
       "      <td>-36.747843</td>\n",
       "    </tr>\n",
       "    <tr>\n",
       "      <th>smint_veh_2m</th>\n",
       "      <td>00000298.out</td>\n",
       "      <td>-30.554630</td>\n",
       "    </tr>\n",
       "    <tr>\n",
       "      <th>smint_veh_3m</th>\n",
       "      <td>00000140.out</td>\n",
       "      <td>-30.337354</td>\n",
       "    </tr>\n",
       "  </tbody>\n",
       "</table>\n",
       "</div>"
      ],
      "text/plain": [
       "                   outfile      score\n",
       "experiment                           \n",
       "smint_bur_2m  00000001.out -35.383692\n",
       "smint_bur_3m  00000007.out -39.216925\n",
       "smint_bur_1m  00000004.out -24.001720\n",
       "smint_veh_1m  00000120.out -36.747843\n",
       "smint_veh_2m  00000298.out -30.554630\n",
       "smint_veh_3m  00000140.out -30.337354"
      ]
     },
     "execution_count": 113,
     "metadata": {},
     "output_type": "execute_result"
    }
   ],
   "source": [
    "pd.DataFrame(best)[['experiment','outfile','score']].set_index('experiment')"
   ]
  }
 ],
 "metadata": {
  "kernelspec": {
   "display_name": "Python 2",
   "language": "python",
   "name": "python2"
  },
  "language_info": {
   "codemirror_mode": {
    "name": "ipython",
    "version": 2
   },
   "file_extension": ".py",
   "mimetype": "text/x-python",
   "name": "python",
   "nbconvert_exporter": "python",
   "pygments_lexer": "ipython2",
   "version": "2.7.13"
  }
 },
 "nbformat": 4,
 "nbformat_minor": 2
}
