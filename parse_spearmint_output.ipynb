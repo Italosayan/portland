{
 "cells": [
  {
   "cell_type": "code",
   "execution_count": 2,
   "metadata": {
    "collapsed": true
   },
   "outputs": [],
   "source": [
    "import os, glob\n",
    "from os.path import abspath, join\n",
    "import re\n",
    "from numpy import array\n",
    "import pandas as pd"
   ]
  },
  {
   "cell_type": "code",
   "execution_count": 3,
   "metadata": {
    "collapsed": false
   },
   "outputs": [],
   "source": [
    "def parse_out(fout):\n",
    "    from numpy import array\n",
    "    regex = re.compile('uniprotkb:P([0-9]*)')\n",
    "    get_score = re.compile(r\"{u'main': ([+-]?\\d+\\.\\d+|\\d+)\")\n",
    "    get_params = re.compile(r\"}]\\n(.*)\\n\")                   \n",
    "\n",
    "    score = get_score.findall(fout)[0]\n",
    "    params = get_params.findall(fout)[0]                   \n",
    "    return {'score':float(score), 'params':params}\n",
    "\n",
    "def extract_output(exp_dir):\n",
    "    outfiles = glob.glob(join(exp_dir, 'output/*.out'))\n",
    "    experout = []\n",
    "    for outfile in outfiles:\n",
    "        outname = os.path.basename(outfile)\n",
    "        with open(outfile) as f:\n",
    "            fout = f.read()\n",
    "            try:\n",
    "                experout.append(parse_out(fout))\n",
    "            except IndexError:\n",
    "                pass\n",
    "            # add output file name\n",
    "            experout[-1].update({'outfile':outname})\n",
    "    return experout"
   ]
  },
  {
   "cell_type": "code",
   "execution_count": 4,
   "metadata": {
    "collapsed": false
   },
   "outputs": [
    {
     "name": "stdout",
     "output_type": "stream",
     "text": [
      "exctracting output from: /backup/portland/smint_veh_1m\n",
      "exctracting output from: /backup/portland/smint_veh_2m\n",
      "exctracting output from: /backup/portland/smint_bur_3m\n",
      "exctracting output from: /backup/portland/smint_bur_2m\n",
      "exctracting output from: /backup/portland/smint_bur_1m\n",
      "exctracting output from: /backup/portland/smint_veh_3m\n"
     ]
    }
   ],
   "source": [
    "dirs_smint = [abspath(d) for d in os.listdir('.') if 'smint' in d and os.path.isdir(d)]\n",
    "expout = {}\n",
    "for path_out in dirs_smint:\n",
    "    print 'exctracting output from:', path_out\n",
    "    experiment = os.path.basename(path_out)\n",
    "    expout[experiment] = extract_output(path_out)"
   ]
  },
  {
   "cell_type": "code",
   "execution_count": 5,
   "metadata": {
    "collapsed": false
   },
   "outputs": [
    {
     "name": "stdout",
     "output_type": "stream",
     "text": [
      "Choosing best trial in experiment: smint_bur_2m\n",
      "Choosing best trial in experiment: smint_bur_3m\n",
      "Choosing best trial in experiment: smint_bur_1m\n",
      "Choosing best trial in experiment: smint_veh_1m\n",
      "Choosing best trial in experiment: smint_veh_2m\n",
      "Choosing best trial in experiment: smint_veh_3m\n"
     ]
    }
   ],
   "source": [
    "best = []\n",
    "for experiment, output in expout.iteritems():\n",
    "    print 'Choosing best trial in experiment:', experiment\n",
    "    # select best score\n",
    "    df = pd.DataFrame(expout[experiment])\n",
    "    best_out = df.iloc[df.score.argmin()].to_dict()\n",
    "    best_out.update({'experiment':experiment})\n",
    "    best.append(best_out)"
   ]
  },
  {
   "cell_type": "code",
   "execution_count": 6,
   "metadata": {
    "collapsed": false
   },
   "outputs": [],
   "source": [
    "b = pd.DataFrame(best).set_index('experiment')"
   ]
  },
  {
   "cell_type": "code",
   "execution_count": 10,
   "metadata": {
    "collapsed": false
   },
   "outputs": [
    {
     "data": {
      "text/plain": [
       "array([ \"{u'k': array([50]), u'kde_lags': array([1]), u'lt': array([ 0.5]), u'kde_bw': array([250]), u'eta': array([ 0.5]), u'kde_win': array([3]), u'theta': array([ 0.]), u'dely': array([ 250.]), u'delx': array([ 250.])}\",\n",
       "       'Anything printed here will end up in the output directory for job #7',\n",
       "       \"{u'k': array([186]), u'kde_lags': array([4]), u'lt': array([ 0.5]), u'kde_bw': array([250]), u'eta': array([ 1.]), u'kde_win': array([30]), u'theta': array([ 0.]), u'dely': array([ 252.89219474]), u'delx': array([ 335.8964064])}\",\n",
       "       \"{u'k': array([84]), u'kde_lags': array([1]), u'lt': array([ 0.5]), u'kde_bw': array([250]), u'eta': array([ 1.]), u'kde_win': array([22]), u'theta': array([ 0.]), u'dely': array([ 260.55790904]), u'delx': array([ 250.])}\",\n",
       "       \"{u'k': array([54]), u'kde_lags': array([1]), u'lt': array([ 0.50612386]), u'kde_bw': array([500]), u'eta': array([ 0.74804254]), u'kde_win': array([4]), u'theta': array([ 0.20819929]), u'dely': array([ 250.39414133]), u'delx': array([ 250.00000032])}\",\n",
       "       \"{u'k': array([106]), u'kde_lags': array([6]), u'lt': array([ 1.8303688]), u'kde_bw': array([379]), u'eta': array([ 0.99753965]), u'kde_win': array([30]), u'theta': array([ 1.57]), u'dely': array([ 250.00024275]), u'delx': array([ 250.25845253])}\"], dtype=object)"
      ]
     },
     "execution_count": 10,
     "metadata": {},
     "output_type": "execute_result"
    }
   ],
   "source": [
    "b['params'].values"
   ]
  }
 ],
 "metadata": {
  "kernelspec": {
   "display_name": "Python 2",
   "language": "python",
   "name": "python2"
  },
  "language_info": {
   "codemirror_mode": {
    "name": "ipython",
    "version": 2
   },
   "file_extension": ".py",
   "mimetype": "text/x-python",
   "name": "python",
   "nbconvert_exporter": "python",
   "pygments_lexer": "ipython2",
   "version": "2.7.13"
  }
 },
 "nbformat": 4,
 "nbformat_minor": 2
}
